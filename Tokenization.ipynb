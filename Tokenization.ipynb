{
 "cells": [
  {
   "cell_type": "code",
   "execution_count": 11,
   "id": "c520daf8-e0b9-4cb4-a78e-d4b0975bd1a5",
   "metadata": {},
   "outputs": [],
   "source": [
    "#!pip install nltk\n",
    "from nltk.tokenize import sent_tokenize"
   ]
  },
  {
   "cell_type": "code",
   "execution_count": 19,
   "id": "fe9e5143-fdd6-42ac-881c-90f8dd01dd27",
   "metadata": {},
   "outputs": [
    {
     "name": "stdout",
     "output_type": "stream",
     "text": [
      "Hello, My name is Umar Khattab and I have an interest in DataScience, NLP, ML. I also love to play video Games. CS2 is the only game I've played last year.\n",
      "\n"
     ]
    }
   ],
   "source": [
    "corpus = \"\"\"Hello, My name is Umar Khattab and I have an interest in DataScience, NLP, ML. I also love to play video Games. CS2 is the only game I've played last year.\n",
    "\"\"\"\n",
    "print(corpus)"
   ]
  },
  {
   "cell_type": "code",
   "execution_count": 28,
   "id": "6fdc8a4c-df50-4df2-8c50-0602834bda0a",
   "metadata": {},
   "outputs": [
    {
     "name": "stdout",
     "output_type": "stream",
     "text": [
      "Sentence: Hello, My name is Umar Khattab and I have an interest in DataScience, NLP, ML.\n",
      "Sentence: I also love to play video Games.\n",
      "Sentence: CS2 is the only game I've played last year.\n",
      "<class 'list'>\n"
     ]
    }
   ],
   "source": [
    "#Coverting Paragraph into Sentences\n",
    "documents = sent_tokenize(corpus)\n",
    "for sentence in documents:\n",
    "    print(f\"Sentence: {sentence}\")\n",
    "print(type(documents))"
   ]
  },
  {
   "cell_type": "code",
   "execution_count": 33,
   "id": "263405cf-d3c3-478c-ad5e-6322be1da233",
   "metadata": {},
   "outputs": [
    {
     "name": "stdout",
     "output_type": "stream",
     "text": [
      "['Hello', ',', 'My', 'name', 'is', 'Umar', 'Khattab', 'and', 'I', 'have', 'an', 'interest', 'in', 'DataScience', ',', 'NLP', ',', 'ML', '.']\n",
      "['I', 'also', 'love', 'to', 'play', 'video', 'Games', '.']\n",
      "['CS2', 'is', 'the', 'only', 'game', 'I', \"'ve\", 'played', 'last', 'year', '.']\n"
     ]
    },
    {
     "data": {
      "text/plain": [
       "['CS2', 'is', 'the', 'only', 'game', 'I', \"'ve\", 'played', 'last', 'year', '.']"
      ]
     },
     "execution_count": 33,
     "metadata": {},
     "output_type": "execute_result"
    }
   ],
   "source": [
    "## Converting Sentence into Word\n",
    "from nltk.tokenize import word_tokenize\n",
    "for sentence in documents:\n",
    "    words = word_tokenize(sentence)\n",
    "    print(words)\n",
    "\n",
    "words"
   ]
  },
  {
   "cell_type": "code",
   "execution_count": 34,
   "id": "1e60590d-4cd6-489c-b48f-c24f067c30c7",
   "metadata": {},
   "outputs": [
    {
     "data": {
      "text/plain": [
       "['Hello',\n",
       " ',',\n",
       " 'My',\n",
       " 'name',\n",
       " 'is',\n",
       " 'Umar',\n",
       " 'Khattab',\n",
       " 'and',\n",
       " 'I',\n",
       " 'have',\n",
       " 'an',\n",
       " 'interest',\n",
       " 'in',\n",
       " 'DataScience',\n",
       " ',',\n",
       " 'NLP',\n",
       " ',',\n",
       " 'ML',\n",
       " '.',\n",
       " 'I',\n",
       " 'also',\n",
       " 'love',\n",
       " 'to',\n",
       " 'play',\n",
       " 'video',\n",
       " 'Games',\n",
       " '.',\n",
       " 'CS2',\n",
       " 'is',\n",
       " 'the',\n",
       " 'only',\n",
       " 'game',\n",
       " 'I',\n",
       " \"'ve\",\n",
       " 'played',\n",
       " 'last',\n",
       " 'year',\n",
       " '.']"
      ]
     },
     "execution_count": 34,
     "metadata": {},
     "output_type": "execute_result"
    }
   ],
   "source": [
    "### Paragraph --- > Words\n",
    "word_tokenize(corpus)"
   ]
  },
  {
   "cell_type": "markdown",
   "id": "4596f729-e6a9-418d-9759-940ec23194d1",
   "metadata": {},
   "source": [
    "##### The Difference between Wordpunct and Word_tokenize is Punctuation. If you've notice Word_tokenize will serve the word `I've` as `I` and `'ve` \n",
    "##### But in WordPunct, It will serve `'` as an Seperate Word"
   ]
  },
  {
   "cell_type": "code",
   "execution_count": 35,
   "id": "46873266-6838-4b8b-96b5-51fae93b8ec8",
   "metadata": {},
   "outputs": [
    {
     "data": {
      "text/plain": [
       "['Hello',\n",
       " ',',\n",
       " 'My',\n",
       " 'name',\n",
       " 'is',\n",
       " 'Umar',\n",
       " 'Khattab',\n",
       " 'and',\n",
       " 'I',\n",
       " 'have',\n",
       " 'an',\n",
       " 'interest',\n",
       " 'in',\n",
       " 'DataScience',\n",
       " ',',\n",
       " 'NLP',\n",
       " ',',\n",
       " 'ML',\n",
       " '.',\n",
       " 'I',\n",
       " 'also',\n",
       " 'love',\n",
       " 'to',\n",
       " 'play',\n",
       " 'video',\n",
       " 'Games',\n",
       " '.',\n",
       " 'CS2',\n",
       " 'is',\n",
       " 'the',\n",
       " 'only',\n",
       " 'game',\n",
       " 'I',\n",
       " \"'\",\n",
       " 've',\n",
       " 'played',\n",
       " 'last',\n",
       " 'year',\n",
       " '.']"
      ]
     },
     "execution_count": 35,
     "metadata": {},
     "output_type": "execute_result"
    }
   ],
   "source": [
    "from nltk.tokenize import wordpunct_tokenize\n",
    "wordpunct_tokenize(corpus)"
   ]
  },
  {
   "cell_type": "code",
   "execution_count": null,
   "id": "f58c5a8a-13e4-4d26-aab6-e2d0ff0a2c24",
   "metadata": {},
   "outputs": [],
   "source": []
  }
 ],
 "metadata": {
  "kernelspec": {
   "display_name": "Python 3 (ipykernel)",
   "language": "python",
   "name": "python3"
  },
  "language_info": {
   "codemirror_mode": {
    "name": "ipython",
    "version": 3
   },
   "file_extension": ".py",
   "mimetype": "text/x-python",
   "name": "python",
   "nbconvert_exporter": "python",
   "pygments_lexer": "ipython3",
   "version": "3.12.8"
  }
 },
 "nbformat": 4,
 "nbformat_minor": 5
}
